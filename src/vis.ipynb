{
 "cells": [
  {
   "cell_type": "markdown",
   "metadata": {},
   "source": [
    "# Visualize CNN Weights and Activations"
   ]
  },
  {
   "cell_type": "code",
   "execution_count": 2,
   "metadata": {},
   "outputs": [],
   "source": [
    "import math\n",
    "import numpy as np\n",
    "import tensorflow as tf\n",
    "import matplotlib.pyplot as plt\n",
    "import skimage.io\n",
    "import skimage.transform\n",
    "import skimage.filters\n",
    "import keras\n",
    "from keras.applications import vgg16\n",
    "from keras import backend as K\n",
    "\n",
    "# Allow graph embeding in notebook\n",
    "%matplotlib inline"
   ]
  },
  {
   "cell_type": "markdown",
   "metadata": {},
   "source": [
    "## Helper Functions"
   ]
  },
  {
   "cell_type": "code",
   "execution_count": 3,
   "metadata": {},
   "outputs": [],
   "source": [
    "def tensor_summary(tensor):\n",
    "    \"\"\"Display shape, min, and max values of a tensor.\"\"\"\n",
    "    print(\n",
    "        \"shape: {}  min: {}  max: {}\".format(tensor.shape, tensor.min(), tensor.max())\n",
    "    )\n",
    "\n",
    "\n",
    "def normalize(image):\n",
    "    \"\"\"Takes a tensor of 3 dimensions (height, width, colors) and normalizes it's values\n",
    "    to be between 0 and 1 so it's suitable for displaying as an image.\"\"\"\n",
    "    image = image.astype(np.float32)\n",
    "    return (image - image.min()) / (image.max() - image.min() + 1e-5)\n",
    "\n",
    "\n",
    "def display_images(images, titles=None, cols=5, interpolation=None, cmap=\"Greys_r\"):\n",
    "    \"\"\"\n",
    "    images: A list of images. I can be either:\n",
    "        - A list of Numpy arrays. Each array represents an image.\n",
    "        - A list of lists of Numpy arrays. In this case, the images in\n",
    "          the inner lists are concatentated to make one image.\n",
    "    \"\"\"\n",
    "    titles = titles or [\"\"] * len(images)\n",
    "    rows = math.ceil(len(images) / cols)\n",
    "    height_ratio = (\n",
    "        1.2 * (rows / cols) * (0.5 if type(images[0]) is not np.ndarray else 1)\n",
    "    )\n",
    "    plt.figure(figsize=(15, 15 * height_ratio))\n",
    "    i = 1\n",
    "    for image, title in zip(images, titles):\n",
    "        plt.subplot(rows, cols, i)\n",
    "        plt.axis(\"off\")\n",
    "        # Is image a list? If so, merge them into one image.\n",
    "        if type(image) is not np.ndarray:\n",
    "            image = [normalize(g) for g in image]\n",
    "            image = np.concatenate(image, axis=1)\n",
    "        else:\n",
    "            image = normalize(image)\n",
    "        plt.title(title, fontsize=9)\n",
    "        plt.imshow(image, cmap=cmap, interpolation=interpolation)\n",
    "        i += 1"
   ]
  },
  {
   "cell_type": "markdown",
   "metadata": {},
   "source": [
    "## Build VGG16 Convolutional Network"
   ]
  },
  {
   "cell_type": "code",
   "execution_count": 4,
   "metadata": {},
   "outputs": [
    {
     "name": "stdout",
     "output_type": "stream",
     "text": [
      "Model: \"vgg16\"\n",
      "_________________________________________________________________\n",
      "Layer (type)                 Output Shape              Param #   \n",
      "=================================================================\n",
      "input_1 (InputLayer)         [(None, 224, 224, 3)]     0         \n",
      "_________________________________________________________________\n",
      "block1_conv1 (Conv2D)        (None, 224, 224, 64)      1792      \n",
      "_________________________________________________________________\n",
      "block1_conv2 (Conv2D)        (None, 224, 224, 64)      36928     \n",
      "_________________________________________________________________\n",
      "block1_pool (MaxPooling2D)   (None, 112, 112, 64)      0         \n",
      "_________________________________________________________________\n",
      "block2_conv1 (Conv2D)        (None, 112, 112, 128)     73856     \n",
      "_________________________________________________________________\n",
      "block2_conv2 (Conv2D)        (None, 112, 112, 128)     147584    \n",
      "_________________________________________________________________\n",
      "block2_pool (MaxPooling2D)   (None, 56, 56, 128)       0         \n",
      "_________________________________________________________________\n",
      "block3_conv1 (Conv2D)        (None, 56, 56, 256)       295168    \n",
      "_________________________________________________________________\n",
      "block3_conv2 (Conv2D)        (None, 56, 56, 256)       590080    \n",
      "_________________________________________________________________\n",
      "block3_conv3 (Conv2D)        (None, 56, 56, 256)       590080    \n",
      "_________________________________________________________________\n",
      "block3_pool (MaxPooling2D)   (None, 28, 28, 256)       0         \n",
      "_________________________________________________________________\n",
      "block4_conv1 (Conv2D)        (None, 28, 28, 512)       1180160   \n",
      "_________________________________________________________________\n",
      "block4_conv2 (Conv2D)        (None, 28, 28, 512)       2359808   \n",
      "_________________________________________________________________\n",
      "block4_conv3 (Conv2D)        (None, 28, 28, 512)       2359808   \n",
      "_________________________________________________________________\n",
      "block4_pool (MaxPooling2D)   (None, 14, 14, 512)       0         \n",
      "_________________________________________________________________\n",
      "block5_conv1 (Conv2D)        (None, 14, 14, 512)       2359808   \n",
      "_________________________________________________________________\n",
      "block5_conv2 (Conv2D)        (None, 14, 14, 512)       2359808   \n",
      "_________________________________________________________________\n",
      "block5_conv3 (Conv2D)        (None, 14, 14, 512)       2359808   \n",
      "_________________________________________________________________\n",
      "block5_pool (MaxPooling2D)   (None, 7, 7, 512)         0         \n",
      "_________________________________________________________________\n",
      "flatten (Flatten)            (None, 25088)             0         \n",
      "_________________________________________________________________\n",
      "fc1 (Dense)                  (None, 4096)              102764544 \n",
      "_________________________________________________________________\n",
      "fc2 (Dense)                  (None, 4096)              16781312  \n",
      "_________________________________________________________________\n",
      "predictions (Dense)          (None, 1000)              4097000   \n",
      "=================================================================\n",
      "Total params: 138,357,544\n",
      "Trainable params: 138,357,544\n",
      "Non-trainable params: 0\n",
      "_________________________________________________________________\n"
     ]
    }
   ],
   "source": [
    "# Build a VGG16 Convolutional Network pre-trained on ImageNet\n",
    "model = vgg16.VGG16(weights=\"imagenet\")\n",
    "model.summary()"
   ]
  },
  {
   "cell_type": "markdown",
   "metadata": {},
   "source": [
    "## Test the Model on Random Images"
   ]
  },
  {
   "cell_type": "code",
   "execution_count": 47,
   "metadata": {},
   "outputs": [
    {
     "name": "stdout",
     "output_type": "stream",
     "text": [
      "shape: (224, 224, 3)  min: 0.0  max: 0.8551820728291321\n"
     ]
    },
    {
     "data": {
      "image/png": "[encoded data removed]",
      "text/plain": [
       "<Figure size 1080x648 with 1 Axes>"
      ]
     },
     "metadata": {
      "needs_background": "light"
     },
     "output_type": "display_data"
    }
   ],
   "source": [
    "# Pick a random image from the Web.\n",
    "# Make sure it's 224x224 image since VGG16 expects this size.\n",
    "image = skimage.io.imread(\"./BloodImage_120.jpg\")\n",
    "image = skimage.transform.resize(image, (224, 224, 3))\n",
    "assert image.shape == (224, 224, 3), \"Must be 224x224 RGB Image\"\n",
    "tensor_summary(image)\n",
    "display_images([image], cols=2)"
   ]
  },
  {
   "cell_type": "code",
   "execution_count": 48,
   "metadata": {},
   "outputs": [],
   "source": [
    "# Convert image to float\n",
    "x = image.astype(np.float32)\n",
    "# Make it a batch of one. The model expects a batch, not a single image\n",
    "x = x[np.newaxis, ...]\n",
    "# Preprocess image. Convert RGB to BGR and subtract the ImageNet mean.\n",
    "x = vgg16.preprocess_input(x)"
   ]
  },
  {
   "cell_type": "code",
   "execution_count": 49,
   "metadata": {
    "scrolled": false
   },
   "outputs": [
    {
     "name": "stdout",
     "output_type": "stream",
     "text": [
      "[0.00014888 0.00201121 0.00042969 0.00034209 0.00194746 0.00066339\n",
      " 0.00030804 0.00027636 0.00020162 0.00045396]\n"
     ]
    }
   ],
   "source": [
    "# Classify the image\n",
    "predictions = model.predict(x)\n",
    "# We'll get a 1000 values. Print the first 10.\n",
    "print(predictions[0][:10])"
   ]
  },
  {
   "cell_type": "code",
   "execution_count": 50,
   "metadata": {},
   "outputs": [
    {
     "name": "stdout",
     "output_type": "stream",
     "text": [
      "label index:  644\n"
     ]
    },
    {
     "data": {
      "text/plain": [
       "[[('n03729826', 'matchstick', 0.076717235),\n",
       "  ('n01930112', 'nematode', 0.047851723),\n",
       "  ('n03666591', 'lighter', 0.030919373),\n",
       "  ('n03196217', 'digital_clock', 0.029111164),\n",
       "  ('n04286575', 'spotlight', 0.023467593)]]"
      ]
     },
     "execution_count": 50,
     "metadata": {},
     "output_type": "execute_result"
    }
   ],
   "source": [
    "# Find the largest confidence value. This corresponds to the label index.\n",
    "label_index = np.argmax(predictions)\n",
    "print(\"label index: \", label_index)\n",
    "# Display the top 5 classes\n",
    "vgg16.decode_predictions(predictions)"
   ]
  },
  {
   "cell_type": "code",
   "execution_count": 51,
   "metadata": {},
   "outputs": [],
   "source": [
    "# List of ImageNet classes. Print a subset of the 1000\n",
    "# The previous call to decode_predictions() sets the value\n",
    "# of CLASS_INDEX, so call that function first.\n",
    "# imagenet_classes = tf.keras.applications.imagenet_utils.CLASS_INDEX\n",
    "# for i in range(10):\n",
    "#     print(i, imagenet_classes[str(i)][1])"
   ]
  },
  {
   "cell_type": "markdown",
   "metadata": {},
   "source": [
    "## Heatmap"
   ]
  },
  {
   "cell_type": "code",
   "execution_count": 52,
   "metadata": {},
   "outputs": [
    {
     "data": {
      "text/plain": [
       "(16, 224, 224, 3)"
      ]
     },
     "execution_count": 52,
     "metadata": {},
     "output_type": "execute_result"
    }
   ],
   "source": [
    "step = 56\n",
    "heatmap_x = []\n",
    "for row in range(0, image.shape[0], step):\n",
    "    for col in range(0, image.shape[1], step):\n",
    "        new_image = image.copy()\n",
    "        # Add a square patch. Using a bright color here to make it easier to see.\n",
    "        new_image[row : row + step, col : col + step, :] = [250, 128, 128]\n",
    "        heatmap_x.append(new_image)\n",
    "heatmap_x = np.stack(heatmap_x)\n",
    "heatmap_x.shape"
   ]
  },
  {
   "cell_type": "code",
   "execution_count": 53,
   "metadata": {},
   "outputs": [
    {
     "data": {
      "image/png": "[encoded data removed]",
      "text/plain": [
       "<Figure size 1080x324 with 16 Axes>"
      ]
     },
     "metadata": {
      "needs_background": "light"
     },
     "output_type": "display_data"
    }
   ],
   "source": [
    "display_images(heatmap_x[:28], cols=8)"
   ]
  },
  {
   "cell_type": "code",
   "execution_count": 54,
   "metadata": {},
   "outputs": [
    {
     "name": "stdout",
     "output_type": "stream",
     "text": [
      "shape: (16, 1000)  min: 3.838527845800854e-06  max: 0.14059294760227203\n"
     ]
    }
   ],
   "source": [
    "heatmap_y = model.predict(vgg16.preprocess_input(heatmap_x.astype(np.float32)))\n",
    "tensor_summary(heatmap_y)"
   ]
  },
  {
   "cell_type": "code",
   "execution_count": 55,
   "metadata": {},
   "outputs": [
    {
     "name": "stdout",
     "output_type": "stream",
     "text": [
      "shape: (16,)  min: 0.04317272827029228  max: 0.0863480493426323\n"
     ]
    }
   ],
   "source": [
    "probs = heatmap_y[:, label_index]\n",
    "tensor_summary(probs)"
   ]
  },
  {
   "cell_type": "code",
   "execution_count": 56,
   "metadata": {},
   "outputs": [
    {
     "name": "stdout",
     "output_type": "stream",
     "text": [
      "shape: (4, 4)  min: 0.0  max: 1.0\n"
     ]
    }
   ],
   "source": [
    "heatmap = (probs.max() - probs) / (probs.max() - probs.min())\n",
    "heatmap = np.reshape(heatmap, (4, 4))\n",
    "tensor_summary(heatmap)"
   ]
  },
  {
   "cell_type": "code",
   "execution_count": 57,
   "metadata": {},
   "outputs": [
    {
     "name": "stdout",
     "output_type": "stream",
     "text": [
      "shape: (4, 4)  min: 0.0  max: 1.0\n"
     ]
    },
    {
     "data": {
      "image/png": "[encoded data removed]",
      "text/plain": [
       "<Figure size 432x288 with 1 Axes>"
      ]
     },
     "metadata": {
      "needs_background": "light"
     },
     "output_type": "display_data"
    }
   ],
   "source": [
    "tensor_summary(heatmap)\n",
    "_ = plt.imshow(heatmap, cmap=plt.cm.Reds)"
   ]
  },
  {
   "cell_type": "code",
   "execution_count": 58,
   "metadata": {},
   "outputs": [
    {
     "name": "stdout",
     "output_type": "stream",
     "text": [
      "shape: (224, 224, 3)  min: 0.0  max: 0.6833334044725141\n"
     ]
    },
    {
     "data": {
      "image/png": "[encoded data removed]",
      "text/plain": [
       "<Figure size 1080x648 with 1 Axes>"
      ]
     },
     "metadata": {
      "needs_background": "light"
     },
     "output_type": "display_data"
    }
   ],
   "source": [
    "def apply_mask(image, mask):\n",
    "    # Resize mask to match image size\n",
    "    mask = skimage.transform.resize(normalize(mask), image.shape[:2])[\n",
    "        :, :, np.newaxis\n",
    "    ].copy()\n",
    "    # Apply mask to image\n",
    "    image_heatmap = image * mask\n",
    "    tensor_summary(image_heatmap)\n",
    "    display_images([image_heatmap], cols=2)\n",
    "\n",
    "\n",
    "# Apply mask to image\n",
    "apply_mask(image, heatmap ** 2)"
   ]
  },
  {
   "cell_type": "markdown",
   "metadata": {},
   "source": [
    "## Visualize the Weights"
   ]
  },
  {
   "cell_type": "code",
   "execution_count": 59,
   "metadata": {},
   "outputs": [
    {
     "data": {
      "text/plain": [
       "((3, 3, 3, 64), -0.67140007, 0.6085159)"
      ]
     },
     "execution_count": 59,
     "metadata": {},
     "output_type": "execute_result"
    }
   ],
   "source": [
    "weights = model.get_layer(\"block1_conv1\").get_weights()[0]\n",
    "weights.shape, weights.min(), weights.max()"
   ]
  },
  {
   "cell_type": "code",
   "execution_count": 60,
   "metadata": {},
   "outputs": [
    {
     "data": {
      "image/png": "[encoded data removed]",
      "text/plain": [
       "<Figure size 1080x324 with 64 Axes>"
      ]
     },
     "metadata": {
      "needs_background": "light"
     },
     "output_type": "display_data"
    }
   ],
   "source": [
    "display_images(\n",
    "    [weights[:, :, ::-1, i] for i in range(64)], cols=16, interpolation=\"none\"\n",
    ")"
   ]
  },
  {
   "cell_type": "markdown",
   "metadata": {},
   "source": [
    "## Visualize Activations"
   ]
  },
  {
   "cell_type": "code",
   "execution_count": 61,
   "metadata": {},
   "outputs": [],
   "source": [
    "def read_layer(model, x, layer_name):\n",
    "    \"\"\"Return the activation values for the specifid layer\"\"\"\n",
    "    # Create Keras function to read the output of a specific layer\n",
    "    get_layer_output = K.function(\n",
    "        [model.layers[0].input], [model.get_layer(layer_name).output]\n",
    "    )\n",
    "    outputs = get_layer_output([x])[0]\n",
    "    tensor_summary(outputs)\n",
    "    return outputs[0]\n",
    "\n",
    "\n",
    "def view_layer(model, x, layer_name, cols=5):\n",
    "    outputs = read_layer(model, x, layer_name)\n",
    "    display_images([outputs[:, :, i] for i in range(10)], cols=cols)"
   ]
  },
  {
   "cell_type": "code",
   "execution_count": 62,
   "metadata": {
    "scrolled": false
   },
   "outputs": [
    {
     "name": "stdout",
     "output_type": "stream",
     "text": [
      "shape: (1, 224, 224, 64)  min: 0.0  max: 500.0454406738281\n"
     ]
    },
    {
     "data": {
      "image/png": "[encoded data removed]",
      "text/plain": [
       "<Figure size 1080x518.4 with 10 Axes>"
      ]
     },
     "metadata": {
      "needs_background": "light"
     },
     "output_type": "display_data"
    }
   ],
   "source": [
    "# print(x)\n",
    "view_layer(model, x, \"block1_conv1\")"
   ]
  },
  {
   "cell_type": "code",
   "execution_count": 22,
   "metadata": {},
   "outputs": [
    {
     "name": "stdout",
     "output_type": "stream",
     "text": [
      "shape: (1, 224, 224, 64)  min: 0.0  max: 1155.3992919921875\n"
     ]
    },
    {
     "data": {
      "image/png": "[encoded data removed]",
      "text/plain": [
       "<Figure size 1080x518.4 with 10 Axes>"
      ]
     },
     "metadata": {
      "needs_background": "light"
     },
     "output_type": "display_data"
    }
   ],
   "source": [
    "view_layer(model, x, \"block1_conv2\")\n",
    "exit()"
   ]
  },
  {
   "cell_type": "code",
   "execution_count": 23,
   "metadata": {},
   "outputs": [
    {
     "name": "stdout",
     "output_type": "stream",
     "text": [
      "shape: (1, 112, 112, 128)  min: 0.0  max: 2013.2410888671875\n"
     ]
    },
    {
     "data": {
      "image/png": "[encoded data removed]",
      "text/plain": [
       "<Figure size 1080x518.4 with 10 Axes>"
      ]
     },
     "metadata": {
      "needs_background": "light"
     },
     "output_type": "display_data"
    }
   ],
   "source": [
    "view_layer(model, x, \"block2_conv1\")"
   ]
  },
  {
   "cell_type": "code",
   "execution_count": 24,
   "metadata": {},
   "outputs": [
    {
     "name": "stdout",
     "output_type": "stream",
     "text": [
      "shape: (1, 56, 56, 256)  min: 0.0  max: 7417.21142578125\n"
     ]
    },
    {
     "data": {
      "image/png": "[encoded data removed]",
      "text/plain": [
       "<Figure size 1080x518.4 with 10 Axes>"
      ]
     },
     "metadata": {
      "needs_background": "light"
     },
     "output_type": "display_data"
    }
   ],
   "source": [
    "view_layer(model, x, \"block3_conv1\")"
   ]
  },
  {
   "cell_type": "code",
   "execution_count": 25,
   "metadata": {},
   "outputs": [
    {
     "name": "stdout",
     "output_type": "stream",
     "text": [
      "shape: (1, 28, 28, 512)  min: 0.0  max: 4001.959228515625\n"
     ]
    },
    {
     "data": {
      "image/png": "[encoded data removed]",
      "text/plain": [
       "<Figure size 1080x518.4 with 10 Axes>"
      ]
     },
     "metadata": {
      "needs_background": "light"
     },
     "output_type": "display_data"
    }
   ],
   "source": [
    "view_layer(model, x, \"block4_conv1\")"
   ]
  },
  {
   "cell_type": "code",
   "execution_count": 26,
   "metadata": {},
   "outputs": [
    {
     "name": "stdout",
     "output_type": "stream",
     "text": [
      "shape: (1, 14, 14, 512)  min: 0.0  max: 84.68714904785156\n"
     ]
    },
    {
     "data": {
      "image/png": "[encoded data removed]",
      "text/plain": [
       "<Figure size 1080x518.4 with 10 Axes>"
      ]
     },
     "metadata": {
      "needs_background": "light"
     },
     "output_type": "display_data"
    }
   ],
   "source": [
    "view_layer(model, x, \"block5_conv3\")"
   ]
  },
  {
   "cell_type": "code",
   "execution_count": 27,
   "metadata": {},
   "outputs": [
    {
     "name": "stdout",
     "output_type": "stream",
     "text": [
      "shape: (1, 14, 14, 512)  min: 0.0  max: 84.68714904785156\n",
      "shape: (224, 224, 3)  min: 0.0  max: 0.0\n"
     ]
    },
    {
     "data": {
      "image/png": "[encoded data removed]",
      "text/plain": [
       "<Figure size 1080x648 with 1 Axes>"
      ]
     },
     "metadata": {
      "needs_background": "light"
     },
     "output_type": "display_data"
    }
   ],
   "source": [
    "a = read_layer(model, x, \"block5_conv3\")\n",
    "apply_mask(image, a[:, :, 0])"
   ]
  },
  {
   "cell_type": "code",
   "execution_count": 28,
   "metadata": {},
   "outputs": [
    {
     "name": "stdout",
     "output_type": "stream",
     "text": [
      "shape: (1, 1000)  min: 2.663103077793494e-05  max: 0.07671723514795303\n"
     ]
    },
    {
     "data": {
      "image/png": "[encoded data removed]",
      "text/plain": [
       "<Figure size 432x288 with 1 Axes>"
      ]
     },
     "metadata": {
      "needs_background": "light"
     },
     "output_type": "display_data"
    }
   ],
   "source": [
    "# The last layer is a 1D 1000-vector. Visualize as a bar chart.\n",
    "a = read_layer(model, x, \"predictions\")\n",
    "_ = plt.plot(a)"
   ]
  },
  {
   "cell_type": "markdown",
   "metadata": {},
   "source": [
    "## Gradient Descent to Image Space\n",
    "\n",
    "Or, gradient ascent, depending on which loss function you choose."
   ]
  },
  {
   "cell_type": "code",
   "execution_count": 29,
   "metadata": {},
   "outputs": [],
   "source": [
    "def build_backprop(model, loss):\n",
    "    # Gradient of the input image with respect to the loss function\n",
    "    gradients = K.gradients(loss, model.input)[0]\n",
    "    # Normalize the gradients\n",
    "    gradients /= K.sqrt(K.mean(K.square(gradients))) + 1e-5\n",
    "    # Keras function to calculate the gradients and loss\n",
    "    return K.function([model.input], [loss, gradients])"
   ]
  },
  {
   "cell_type": "markdown",
   "metadata": {},
   "source": [
    "### Visualize the Gradients on the Input Image"
   ]
  },
  {
   "cell_type": "code",
   "execution_count": 30,
   "metadata": {},
   "outputs": [
    {
     "ename": "RuntimeError",
     "evalue": "tf.gradients is not supported when eager execution is enabled. Use tf.GradientTape instead.",
     "output_type": "error",
     "traceback": [
      "\u001b[0;31m---------------------------------------------------------------------------\u001b[0m",
      "\u001b[0;31mRuntimeError\u001b[0m                              Traceback (most recent call last)",
      "\u001b[0;32m<ipython-input-30-fb7c9cb459f3>\u001b[0m in \u001b[0;36m<module>\u001b[0;34m\u001b[0m\n\u001b[1;32m      3\u001b[0m \u001b[0;34m\u001b[0m\u001b[0m\n\u001b[1;32m      4\u001b[0m \u001b[0;31m# Backprop function\u001b[0m\u001b[0;34m\u001b[0m\u001b[0;34m\u001b[0m\u001b[0;34m\u001b[0m\u001b[0m\n\u001b[0;32m----> 5\u001b[0;31m \u001b[0mbackprop\u001b[0m \u001b[0;34m=\u001b[0m \u001b[0mbuild_backprop\u001b[0m\u001b[0;34m(\u001b[0m\u001b[0mmodel\u001b[0m\u001b[0;34m,\u001b[0m \u001b[0mloss_function\u001b[0m\u001b[0;34m)\u001b[0m\u001b[0;34m\u001b[0m\u001b[0;34m\u001b[0m\u001b[0m\n\u001b[0m\u001b[1;32m      6\u001b[0m \u001b[0;34m\u001b[0m\u001b[0m\n\u001b[1;32m      7\u001b[0m \u001b[0;31m# Calculate gradients on the input image\u001b[0m\u001b[0;34m\u001b[0m\u001b[0;34m\u001b[0m\u001b[0;34m\u001b[0m\u001b[0m\n",
      "\u001b[0;32m<ipython-input-29-2b1ce10f6922>\u001b[0m in \u001b[0;36mbuild_backprop\u001b[0;34m(model, loss)\u001b[0m\n\u001b[1;32m      1\u001b[0m \u001b[0;32mdef\u001b[0m \u001b[0mbuild_backprop\u001b[0m\u001b[0;34m(\u001b[0m\u001b[0mmodel\u001b[0m\u001b[0;34m,\u001b[0m \u001b[0mloss\u001b[0m\u001b[0;34m)\u001b[0m\u001b[0;34m:\u001b[0m\u001b[0;34m\u001b[0m\u001b[0;34m\u001b[0m\u001b[0m\n\u001b[1;32m      2\u001b[0m     \u001b[0;31m# Gradient of the input image with respect to the loss function\u001b[0m\u001b[0;34m\u001b[0m\u001b[0;34m\u001b[0m\u001b[0;34m\u001b[0m\u001b[0m\n\u001b[0;32m----> 3\u001b[0;31m     \u001b[0mgradients\u001b[0m \u001b[0;34m=\u001b[0m \u001b[0mK\u001b[0m\u001b[0;34m.\u001b[0m\u001b[0mgradients\u001b[0m\u001b[0;34m(\u001b[0m\u001b[0mloss\u001b[0m\u001b[0;34m,\u001b[0m \u001b[0mmodel\u001b[0m\u001b[0;34m.\u001b[0m\u001b[0minput\u001b[0m\u001b[0;34m)\u001b[0m\u001b[0;34m[\u001b[0m\u001b[0;36m0\u001b[0m\u001b[0;34m]\u001b[0m\u001b[0;34m\u001b[0m\u001b[0;34m\u001b[0m\u001b[0m\n\u001b[0m\u001b[1;32m      4\u001b[0m     \u001b[0;31m# Normalize the gradients\u001b[0m\u001b[0;34m\u001b[0m\u001b[0;34m\u001b[0m\u001b[0;34m\u001b[0m\u001b[0m\n\u001b[1;32m      5\u001b[0m     \u001b[0mgradients\u001b[0m \u001b[0;34m/=\u001b[0m \u001b[0;34m(\u001b[0m\u001b[0mK\u001b[0m\u001b[0;34m.\u001b[0m\u001b[0msqrt\u001b[0m\u001b[0;34m(\u001b[0m\u001b[0mK\u001b[0m\u001b[0;34m.\u001b[0m\u001b[0mmean\u001b[0m\u001b[0;34m(\u001b[0m\u001b[0mK\u001b[0m\u001b[0;34m.\u001b[0m\u001b[0msquare\u001b[0m\u001b[0;34m(\u001b[0m\u001b[0mgradients\u001b[0m\u001b[0;34m)\u001b[0m\u001b[0;34m)\u001b[0m\u001b[0;34m)\u001b[0m \u001b[0;34m+\u001b[0m \u001b[0;36m1e-5\u001b[0m\u001b[0;34m)\u001b[0m\u001b[0;34m\u001b[0m\u001b[0;34m\u001b[0m\u001b[0m\n",
      "\u001b[0;32m~/anaconda3/envs/bionet/lib/python3.8/site-packages/tensorflow/python/keras/backend.py\u001b[0m in \u001b[0;36mgradients\u001b[0;34m(loss, variables)\u001b[0m\n\u001b[1;32m   3966\u001b[0m       \u001b[0mA\u001b[0m \u001b[0mgradients\u001b[0m \u001b[0mtensor\u001b[0m\u001b[0;34m.\u001b[0m\u001b[0;34m\u001b[0m\u001b[0;34m\u001b[0m\u001b[0m\n\u001b[1;32m   3967\u001b[0m   \"\"\"\n\u001b[0;32m-> 3968\u001b[0;31m   return gradients_module.gradients(\n\u001b[0m\u001b[1;32m   3969\u001b[0m       loss, variables, colocate_gradients_with_ops=True)\n\u001b[1;32m   3970\u001b[0m \u001b[0;34m\u001b[0m\u001b[0m\n",
      "\u001b[0;32m~/anaconda3/envs/bionet/lib/python3.8/site-packages/tensorflow/python/ops/gradients_impl.py\u001b[0m in \u001b[0;36mgradients\u001b[0;34m(ys, xs, grad_ys, name, colocate_gradients_with_ops, gate_gradients, aggregation_method, stop_gradients, unconnected_gradients)\u001b[0m\n\u001b[1;32m    167\u001b[0m   \u001b[0;31m# pylint: disable=protected-access\u001b[0m\u001b[0;34m\u001b[0m\u001b[0;34m\u001b[0m\u001b[0;34m\u001b[0m\u001b[0m\n\u001b[1;32m    168\u001b[0m   \u001b[0;32mwith\u001b[0m \u001b[0mops\u001b[0m\u001b[0;34m.\u001b[0m\u001b[0mget_default_graph\u001b[0m\u001b[0;34m(\u001b[0m\u001b[0;34m)\u001b[0m\u001b[0;34m.\u001b[0m\u001b[0m_mutation_lock\u001b[0m\u001b[0;34m(\u001b[0m\u001b[0;34m)\u001b[0m\u001b[0;34m:\u001b[0m\u001b[0;34m\u001b[0m\u001b[0;34m\u001b[0m\u001b[0m\n\u001b[0;32m--> 169\u001b[0;31m     return gradients_util._GradientsHelper(\n\u001b[0m\u001b[1;32m    170\u001b[0m         \u001b[0mys\u001b[0m\u001b[0;34m,\u001b[0m \u001b[0mxs\u001b[0m\u001b[0;34m,\u001b[0m \u001b[0mgrad_ys\u001b[0m\u001b[0;34m,\u001b[0m \u001b[0mname\u001b[0m\u001b[0;34m,\u001b[0m \u001b[0mcolocate_gradients_with_ops\u001b[0m\u001b[0;34m,\u001b[0m\u001b[0;34m\u001b[0m\u001b[0;34m\u001b[0m\u001b[0m\n\u001b[1;32m    171\u001b[0m         \u001b[0mgate_gradients\u001b[0m\u001b[0;34m,\u001b[0m \u001b[0maggregation_method\u001b[0m\u001b[0;34m,\u001b[0m \u001b[0mstop_gradients\u001b[0m\u001b[0;34m,\u001b[0m\u001b[0;34m\u001b[0m\u001b[0;34m\u001b[0m\u001b[0m\n",
      "\u001b[0;32m~/anaconda3/envs/bionet/lib/python3.8/site-packages/tensorflow/python/ops/gradients_util.py\u001b[0m in \u001b[0;36m_GradientsHelper\u001b[0;34m(ys, xs, grad_ys, name, colocate_gradients_with_ops, gate_gradients, aggregation_method, stop_gradients, unconnected_gradients, src_graph)\u001b[0m\n\u001b[1;32m    489\u001b[0m   \u001b[0;34m\"\"\"Implementation of gradients().\"\"\"\u001b[0m\u001b[0;34m\u001b[0m\u001b[0;34m\u001b[0m\u001b[0m\n\u001b[1;32m    490\u001b[0m   \u001b[0;32mif\u001b[0m \u001b[0mcontext\u001b[0m\u001b[0;34m.\u001b[0m\u001b[0mexecuting_eagerly\u001b[0m\u001b[0;34m(\u001b[0m\u001b[0;34m)\u001b[0m\u001b[0;34m:\u001b[0m\u001b[0;34m\u001b[0m\u001b[0;34m\u001b[0m\u001b[0m\n\u001b[0;32m--> 491\u001b[0;31m     raise RuntimeError(\"tf.gradients is not supported when eager execution \"\n\u001b[0m\u001b[1;32m    492\u001b[0m                        \"is enabled. Use tf.GradientTape instead.\")\n\u001b[1;32m    493\u001b[0m   \u001b[0;32mif\u001b[0m \u001b[0msrc_graph\u001b[0m \u001b[0;32mis\u001b[0m \u001b[0;32mNone\u001b[0m\u001b[0;34m:\u001b[0m\u001b[0;34m\u001b[0m\u001b[0;34m\u001b[0m\u001b[0m\n",
      "\u001b[0;31mRuntimeError\u001b[0m: tf.gradients is not supported when eager execution is enabled. Use tf.GradientTape instead."
     ]
    }
   ],
   "source": [
    "# Loss function that optimizes one class\n",
    "loss_function = K.mean(model.get_layer(\"predictions\").output[:, label_index])\n",
    "\n",
    "# Backprop function\n",
    "backprop = build_backprop(model, loss_function)\n",
    "\n",
    "# Calculate gradients on the input image\n",
    "loss, grads = backprop([x])\n",
    "tensor_summary(grads)\n",
    "\n",
    "# Visualize the gradients\n",
    "grad_image = normalize(grads)\n",
    "display_images([np.sum(grad_image[0], axis=2), image], cols=2)"
   ]
  },
  {
   "cell_type": "markdown",
   "metadata": {},
   "source": [
    "## Generate an Image That Maximizes A Class "
   ]
  },
  {
   "cell_type": "code",
   "execution_count": null,
   "metadata": {},
   "outputs": [],
   "source": [
    "# Start with a random image\n",
    "random_image = np.random.random((1, 224, 224, 3))\n",
    "display_images(random_image, cols=2)"
   ]
  },
  {
   "cell_type": "code",
   "execution_count": null,
   "metadata": {},
   "outputs": [],
   "source": [
    "# Iteratively apply gradient ascent\n",
    "for i in range(50):\n",
    "    loss, grads = backprop([random_image])\n",
    "\n",
    "    # Multiply gradients by the learning rate and add to the image\n",
    "    # Optionally, apply a gaussian filter to the gradients to smooth\n",
    "    # out the generated image. This gives better results.\n",
    "    # The first line, which is commented out, is the native method\n",
    "    # and the following line uses the filter. Try with both to\n",
    "    # see the difference.\n",
    "    #\n",
    "    # random_image += grads * .1\n",
    "    random_image += skimage.filters.gaussian(np.clip(grads, -1, 1), 2)\n",
    "\n",
    "    # Print loss value\n",
    "    if i % 10 == 0:\n",
    "        print(\"Loss:\", loss)\n",
    "\n",
    "tensor_summary(random_image)\n",
    "display_images(random_image[..., ::-1], cols=2)"
   ]
  },
  {
   "cell_type": "code",
   "execution_count": null,
   "metadata": {},
   "outputs": [],
   "source": [
    "# Classify the image\n",
    "predictions = model.predict(random_image)\n",
    "vgg16.decode_predictions(predictions)"
   ]
  },
  {
   "cell_type": "markdown",
   "metadata": {},
   "source": [
    "## Maximize Activations for a Hidden Filter"
   ]
  },
  {
   "cell_type": "code",
   "execution_count": null,
   "metadata": {},
   "outputs": [],
   "source": [
    "# Loss function that optimizes one class\n",
    "loss_function = K.mean(model.get_layer(\"block3_conv2\").output[:, :, :, 2])\n",
    "\n",
    "# Backprop function\n",
    "backprop = build_backprop(model, loss_function)\n",
    "\n",
    "# Start with a random image\n",
    "random_image = np.random.random((1, 224, 224, 3))"
   ]
  },
  {
   "cell_type": "code",
   "execution_count": null,
   "metadata": {},
   "outputs": [],
   "source": [
    "# Iteratively apply gradient ascent\n",
    "for i in range(50):\n",
    "    loss, grads = backprop([random_image])\n",
    "    grads = np.nan_to_num(grads)  # In case gradients are NaN\n",
    "    # Apply gradients with or without a gaussian filter\n",
    "    # random_image += grads * .1\n",
    "    random_image += skimage.filters.gaussian(np.clip(grads, -1, 1), 2)\n",
    "    if i % 10 == 0:\n",
    "        print(\"Loss:\", loss)\n",
    "\n",
    "tensor_summary(random_image)\n",
    "display_images(random_image[..., ::-1], cols=2)"
   ]
  },
  {
   "cell_type": "code",
   "execution_count": null,
   "metadata": {},
   "outputs": [],
   "source": []
  }
 ],
 "metadata": {
  "kernelspec": {
   "display_name": "Python 3",
   "language": "python",
   "name": "python3"
  },
  "language_info": {
   "codemirror_mode": {
    "name": "ipython",
    "version": 3
   },
   "file_extension": ".py",
   "mimetype": "text/x-python",
   "name": "python",
   "nbconvert_exporter": "python",
   "pygments_lexer": "ipython3",
   "version": "3.8.5"
  }
 },
 "nbformat": 4,
 "nbformat_minor": 2
}
